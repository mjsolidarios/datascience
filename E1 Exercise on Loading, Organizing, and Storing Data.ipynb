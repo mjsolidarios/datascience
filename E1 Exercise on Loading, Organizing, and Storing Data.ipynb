{
 "cells": [
  {
   "cell_type": "markdown",
   "id": "abf31f93-0867-4f2e-b76f-d14b07d57269",
   "metadata": {
    "deletable": false,
    "editable": false
   },
   "source": [
    "# <font face = 'Impact' color = '#FFAEBC' > Exercise on Loading, Organizing, and Storing Data<font/>\n",
    "#### <font face = 'Times New Roman' color = '#B5E5CF'> Licence: GPL v3.0 <font/>\n",
    "#### <font face = 'Times New Roman' color = '#B5E5CF'> Author and Trainer: Paolo Hilado MSc. (Data Science) <font/>\n",
    "Showcase your learning and skills by accomplishing this jupyter notebook. Follow through each of the tasks and code with python to address them."
   ]
  },
  {
   "cell_type": "markdown",
   "id": "da373d5a-37f8-402b-ae06-8b8af966c071",
   "metadata": {},
   "source": [
    "# Name of Participant: Mark Joseph J. Solidarios"
   ]
  },
  {
   "cell_type": "code",
   "execution_count": 10,
   "id": "658e249b-c429-46e5-9357-e78fdecbd4c8",
   "metadata": {},
   "outputs": [],
   "source": [
    "# Import the necessary libraries such as pandas, researchpy, os, and numpy.\n",
    "import pandas as pd\n",
    "import numpy as np\n",
    "import researchpy as rp\n",
    "import os\n",
    "import qdesc as qd"
   ]
  },
  {
   "cell_type": "code",
   "execution_count": 7,
   "id": "929f781c-7aea-4d2b-85d0-e866ec6608e7",
   "metadata": {},
   "outputs": [
    {
     "name": "stdout",
     "output_type": "stream",
     "text": [
      "/home/user/Desktop/practice/Day1\n"
     ]
    }
   ],
   "source": [
    "#Checking out the current working directory\n",
    "print(os.getcwd())"
   ]
  },
  {
   "cell_type": "code",
   "execution_count": 8,
   "id": "4cedc7cc-b688-4da0-908b-14fb25cafc3e",
   "metadata": {},
   "outputs": [],
   "source": [
    "#Load a spreadsheet and assigning it to a variable df.\n",
    "# Open and work on \"ExperimentOne.xlsx\".\n",
    "df = pd.read_excel(\"ExperimentOne.xlsx\")"
   ]
  },
  {
   "cell_type": "code",
   "execution_count": 9,
   "id": "254a82bd-0f57-47b9-a92f-306690bfd361",
   "metadata": {},
   "outputs": [
    {
     "data": {
      "text/html": [
       "<div>\n",
       "<style scoped>\n",
       "    .dataframe tbody tr th:only-of-type {\n",
       "        vertical-align: middle;\n",
       "    }\n",
       "\n",
       "    .dataframe tbody tr th {\n",
       "        vertical-align: top;\n",
       "    }\n",
       "\n",
       "    .dataframe thead th {\n",
       "        text-align: right;\n",
       "    }\n",
       "</style>\n",
       "<table border=\"1\" class=\"dataframe\">\n",
       "  <thead>\n",
       "    <tr style=\"text-align: right;\">\n",
       "      <th></th>\n",
       "      <th>ID</th>\n",
       "      <th>Post</th>\n",
       "      <th>Group</th>\n",
       "    </tr>\n",
       "  </thead>\n",
       "  <tbody>\n",
       "    <tr>\n",
       "      <th>0</th>\n",
       "      <td>1</td>\n",
       "      <td>17.23</td>\n",
       "      <td>Cntrl</td>\n",
       "    </tr>\n",
       "    <tr>\n",
       "      <th>1</th>\n",
       "      <td>2</td>\n",
       "      <td>16.04</td>\n",
       "      <td>Cntrl</td>\n",
       "    </tr>\n",
       "    <tr>\n",
       "      <th>2</th>\n",
       "      <td>3</td>\n",
       "      <td>19.22</td>\n",
       "      <td>Cntrl</td>\n",
       "    </tr>\n",
       "    <tr>\n",
       "      <th>3</th>\n",
       "      <td>4</td>\n",
       "      <td>19.45</td>\n",
       "      <td>Cntrl</td>\n",
       "    </tr>\n",
       "    <tr>\n",
       "      <th>4</th>\n",
       "      <td>5</td>\n",
       "      <td>18.53</td>\n",
       "      <td>Cntrl</td>\n",
       "    </tr>\n",
       "    <tr>\n",
       "      <th>...</th>\n",
       "      <td>...</td>\n",
       "      <td>...</td>\n",
       "      <td>...</td>\n",
       "    </tr>\n",
       "    <tr>\n",
       "      <th>69</th>\n",
       "      <td>70</td>\n",
       "      <td>6.86</td>\n",
       "      <td>Tx</td>\n",
       "    </tr>\n",
       "    <tr>\n",
       "      <th>70</th>\n",
       "      <td>71</td>\n",
       "      <td>17.63</td>\n",
       "      <td>Tx</td>\n",
       "    </tr>\n",
       "    <tr>\n",
       "      <th>71</th>\n",
       "      <td>72</td>\n",
       "      <td>18.84</td>\n",
       "      <td>Tx</td>\n",
       "    </tr>\n",
       "    <tr>\n",
       "      <th>72</th>\n",
       "      <td>73</td>\n",
       "      <td>15.11</td>\n",
       "      <td>Tx</td>\n",
       "    </tr>\n",
       "    <tr>\n",
       "      <th>73</th>\n",
       "      <td>74</td>\n",
       "      <td>19.07</td>\n",
       "      <td>Tx</td>\n",
       "    </tr>\n",
       "  </tbody>\n",
       "</table>\n",
       "<p>74 rows × 3 columns</p>\n",
       "</div>"
      ],
      "text/plain": [
       "    ID   Post  Group\n",
       "0    1  17.23  Cntrl\n",
       "1    2  16.04  Cntrl\n",
       "2    3  19.22  Cntrl\n",
       "3    4  19.45  Cntrl\n",
       "4    5  18.53  Cntrl\n",
       "..  ..    ...    ...\n",
       "69  70   6.86     Tx\n",
       "70  71  17.63     Tx\n",
       "71  72  18.84     Tx\n",
       "72  73  15.11     Tx\n",
       "73  74  19.07     Tx\n",
       "\n",
       "[74 rows x 3 columns]"
      ]
     },
     "execution_count": 9,
     "metadata": {},
     "output_type": "execute_result"
    }
   ],
   "source": [
    "#View the dataframe\n",
    "df"
   ]
  },
  {
   "cell_type": "code",
   "execution_count": 10,
   "id": "79335ea8-3643-4e5b-92b4-7dd77af64f96",
   "metadata": {},
   "outputs": [
    {
     "data": {
      "text/html": [
       "<div>\n",
       "<style scoped>\n",
       "    .dataframe tbody tr th:only-of-type {\n",
       "        vertical-align: middle;\n",
       "    }\n",
       "\n",
       "    .dataframe tbody tr th {\n",
       "        vertical-align: top;\n",
       "    }\n",
       "\n",
       "    .dataframe thead th {\n",
       "        text-align: right;\n",
       "    }\n",
       "</style>\n",
       "<table border=\"1\" class=\"dataframe\">\n",
       "  <thead>\n",
       "    <tr style=\"text-align: right;\">\n",
       "      <th></th>\n",
       "      <th>ID</th>\n",
       "      <th>Post</th>\n",
       "      <th>Group</th>\n",
       "    </tr>\n",
       "  </thead>\n",
       "  <tbody>\n",
       "    <tr>\n",
       "      <th>0</th>\n",
       "      <td>1</td>\n",
       "      <td>17.23</td>\n",
       "      <td>Cntrl</td>\n",
       "    </tr>\n",
       "    <tr>\n",
       "      <th>1</th>\n",
       "      <td>2</td>\n",
       "      <td>16.04</td>\n",
       "      <td>Cntrl</td>\n",
       "    </tr>\n",
       "    <tr>\n",
       "      <th>2</th>\n",
       "      <td>3</td>\n",
       "      <td>19.22</td>\n",
       "      <td>Cntrl</td>\n",
       "    </tr>\n",
       "    <tr>\n",
       "      <th>3</th>\n",
       "      <td>4</td>\n",
       "      <td>19.45</td>\n",
       "      <td>Cntrl</td>\n",
       "    </tr>\n",
       "    <tr>\n",
       "      <th>4</th>\n",
       "      <td>5</td>\n",
       "      <td>18.53</td>\n",
       "      <td>Cntrl</td>\n",
       "    </tr>\n",
       "    <tr>\n",
       "      <th>5</th>\n",
       "      <td>6</td>\n",
       "      <td>21.00</td>\n",
       "      <td>Cntrl</td>\n",
       "    </tr>\n",
       "    <tr>\n",
       "      <th>6</th>\n",
       "      <td>7</td>\n",
       "      <td>19.28</td>\n",
       "      <td>Cntrl</td>\n",
       "    </tr>\n",
       "  </tbody>\n",
       "</table>\n",
       "</div>"
      ],
      "text/plain": [
       "   ID   Post  Group\n",
       "0   1  17.23  Cntrl\n",
       "1   2  16.04  Cntrl\n",
       "2   3  19.22  Cntrl\n",
       "3   4  19.45  Cntrl\n",
       "4   5  18.53  Cntrl\n",
       "5   6  21.00  Cntrl\n",
       "6   7  19.28  Cntrl"
      ]
     },
     "execution_count": 10,
     "metadata": {},
     "output_type": "execute_result"
    }
   ],
   "source": [
    "# Viewing the first 7 rows\n",
    "df.head(7)"
   ]
  },
  {
   "cell_type": "code",
   "execution_count": 11,
   "id": "3597bb43-aa49-4c08-9571-dcf8139cd0d3",
   "metadata": {},
   "outputs": [
    {
     "data": {
      "text/html": [
       "<div>\n",
       "<style scoped>\n",
       "    .dataframe tbody tr th:only-of-type {\n",
       "        vertical-align: middle;\n",
       "    }\n",
       "\n",
       "    .dataframe tbody tr th {\n",
       "        vertical-align: top;\n",
       "    }\n",
       "\n",
       "    .dataframe thead th {\n",
       "        text-align: right;\n",
       "    }\n",
       "</style>\n",
       "<table border=\"1\" class=\"dataframe\">\n",
       "  <thead>\n",
       "    <tr style=\"text-align: right;\">\n",
       "      <th></th>\n",
       "      <th>ID</th>\n",
       "      <th>Post</th>\n",
       "      <th>Group</th>\n",
       "    </tr>\n",
       "  </thead>\n",
       "  <tbody>\n",
       "    <tr>\n",
       "      <th>67</th>\n",
       "      <td>68</td>\n",
       "      <td>12.55</td>\n",
       "      <td>Tx</td>\n",
       "    </tr>\n",
       "    <tr>\n",
       "      <th>68</th>\n",
       "      <td>69</td>\n",
       "      <td>19.67</td>\n",
       "      <td>Tx</td>\n",
       "    </tr>\n",
       "    <tr>\n",
       "      <th>69</th>\n",
       "      <td>70</td>\n",
       "      <td>6.86</td>\n",
       "      <td>Tx</td>\n",
       "    </tr>\n",
       "    <tr>\n",
       "      <th>70</th>\n",
       "      <td>71</td>\n",
       "      <td>17.63</td>\n",
       "      <td>Tx</td>\n",
       "    </tr>\n",
       "    <tr>\n",
       "      <th>71</th>\n",
       "      <td>72</td>\n",
       "      <td>18.84</td>\n",
       "      <td>Tx</td>\n",
       "    </tr>\n",
       "    <tr>\n",
       "      <th>72</th>\n",
       "      <td>73</td>\n",
       "      <td>15.11</td>\n",
       "      <td>Tx</td>\n",
       "    </tr>\n",
       "    <tr>\n",
       "      <th>73</th>\n",
       "      <td>74</td>\n",
       "      <td>19.07</td>\n",
       "      <td>Tx</td>\n",
       "    </tr>\n",
       "  </tbody>\n",
       "</table>\n",
       "</div>"
      ],
      "text/plain": [
       "    ID   Post Group\n",
       "67  68  12.55    Tx\n",
       "68  69  19.67    Tx\n",
       "69  70   6.86    Tx\n",
       "70  71  17.63    Tx\n",
       "71  72  18.84    Tx\n",
       "72  73  15.11    Tx\n",
       "73  74  19.07    Tx"
      ]
     },
     "execution_count": 11,
     "metadata": {},
     "output_type": "execute_result"
    }
   ],
   "source": [
    "# Viewing the last 7 rows\n",
    "df.tail(7)"
   ]
  },
  {
   "cell_type": "code",
   "execution_count": 17,
   "id": "3e5cf7d6-3bdd-4952-86a7-90772c2266b7",
   "metadata": {},
   "outputs": [
    {
     "data": {
      "text/plain": [
       "0     17.23\n",
       "1     16.04\n",
       "2     19.22\n",
       "3     19.45\n",
       "4     18.53\n",
       "      ...  \n",
       "69     6.86\n",
       "70    17.63\n",
       "71    18.84\n",
       "72    15.11\n",
       "73    19.07\n",
       "Name: Post, Length: 74, dtype: float64"
      ]
     },
     "execution_count": 17,
     "metadata": {},
     "output_type": "execute_result"
    }
   ],
   "source": [
    "# Slice the data frame to only show the data on the \"Post\" Column.\n",
    "# Slicing column approach 1\n",
    "df[\"Post\"]\n",
    "# Slicing a column approach 2\n",
    "df.Post"
   ]
  },
  {
   "cell_type": "code",
   "execution_count": 19,
   "id": "f50d55cf-2764-46ac-b9cf-ac08ec78f0f3",
   "metadata": {},
   "outputs": [
    {
     "data": {
      "text/plain": [
       "0      1\n",
       "1      2\n",
       "2      3\n",
       "3      4\n",
       "4      5\n",
       "      ..\n",
       "69    70\n",
       "70    71\n",
       "71    72\n",
       "72    73\n",
       "73    74\n",
       "Name: ID, Length: 74, dtype: int64"
      ]
     },
     "execution_count": 19,
     "metadata": {},
     "output_type": "execute_result"
    }
   ],
   "source": [
    "# Create different subsets of the data frame and show it.\n",
    "# Get the data for the first column\n",
    "subset = df.iloc[:,0]\n",
    "subset"
   ]
  },
  {
   "cell_type": "code",
   "execution_count": 18,
   "id": "715f361a-ed4e-4237-b43d-e90a5ed3440b",
   "metadata": {},
   "outputs": [
    {
     "data": {
      "text/html": [
       "<div>\n",
       "<style scoped>\n",
       "    .dataframe tbody tr th:only-of-type {\n",
       "        vertical-align: middle;\n",
       "    }\n",
       "\n",
       "    .dataframe tbody tr th {\n",
       "        vertical-align: top;\n",
       "    }\n",
       "\n",
       "    .dataframe thead th {\n",
       "        text-align: right;\n",
       "    }\n",
       "</style>\n",
       "<table border=\"1\" class=\"dataframe\">\n",
       "  <thead>\n",
       "    <tr style=\"text-align: right;\">\n",
       "      <th></th>\n",
       "      <th>Post</th>\n",
       "      <th>Group</th>\n",
       "    </tr>\n",
       "  </thead>\n",
       "  <tbody>\n",
       "    <tr>\n",
       "      <th>1</th>\n",
       "      <td>16.04</td>\n",
       "      <td>Cntrl</td>\n",
       "    </tr>\n",
       "    <tr>\n",
       "      <th>2</th>\n",
       "      <td>19.22</td>\n",
       "      <td>Cntrl</td>\n",
       "    </tr>\n",
       "    <tr>\n",
       "      <th>3</th>\n",
       "      <td>19.45</td>\n",
       "      <td>Cntrl</td>\n",
       "    </tr>\n",
       "    <tr>\n",
       "      <th>4</th>\n",
       "      <td>18.53</td>\n",
       "      <td>Cntrl</td>\n",
       "    </tr>\n",
       "    <tr>\n",
       "      <th>5</th>\n",
       "      <td>21.00</td>\n",
       "      <td>Cntrl</td>\n",
       "    </tr>\n",
       "    <tr>\n",
       "      <th>6</th>\n",
       "      <td>19.28</td>\n",
       "      <td>Cntrl</td>\n",
       "    </tr>\n",
       "    <tr>\n",
       "      <th>7</th>\n",
       "      <td>19.63</td>\n",
       "      <td>Cntrl</td>\n",
       "    </tr>\n",
       "    <tr>\n",
       "      <th>8</th>\n",
       "      <td>12.66</td>\n",
       "      <td>Cntrl</td>\n",
       "    </tr>\n",
       "    <tr>\n",
       "      <th>9</th>\n",
       "      <td>17.55</td>\n",
       "      <td>Cntrl</td>\n",
       "    </tr>\n",
       "    <tr>\n",
       "      <th>10</th>\n",
       "      <td>18.08</td>\n",
       "      <td>Cntrl</td>\n",
       "    </tr>\n",
       "  </tbody>\n",
       "</table>\n",
       "</div>"
      ],
      "text/plain": [
       "     Post  Group\n",
       "1   16.04  Cntrl\n",
       "2   19.22  Cntrl\n",
       "3   19.45  Cntrl\n",
       "4   18.53  Cntrl\n",
       "5   21.00  Cntrl\n",
       "6   19.28  Cntrl\n",
       "7   19.63  Cntrl\n",
       "8   12.66  Cntrl\n",
       "9   17.55  Cntrl\n",
       "10  18.08  Cntrl"
      ]
     },
     "execution_count": 18,
     "metadata": {},
     "output_type": "execute_result"
    }
   ],
   "source": [
    "# Get the Post Test and Group data for records 1-10 \n",
    "df.iloc[1:11, [1, 2]]\n"
   ]
  },
  {
   "cell_type": "code",
   "execution_count": 19,
   "id": "172f9297-37a0-4fd7-8ebe-dee65f3bc778",
   "metadata": {},
   "outputs": [
    {
     "data": {
      "text/html": [
       "<div>\n",
       "<style scoped>\n",
       "    .dataframe tbody tr th:only-of-type {\n",
       "        vertical-align: middle;\n",
       "    }\n",
       "\n",
       "    .dataframe tbody tr th {\n",
       "        vertical-align: top;\n",
       "    }\n",
       "\n",
       "    .dataframe thead th {\n",
       "        text-align: right;\n",
       "    }\n",
       "</style>\n",
       "<table border=\"1\" class=\"dataframe\">\n",
       "  <thead>\n",
       "    <tr style=\"text-align: right;\">\n",
       "      <th></th>\n",
       "      <th>Post</th>\n",
       "      <th>Group</th>\n",
       "    </tr>\n",
       "  </thead>\n",
       "  <tbody>\n",
       "    <tr>\n",
       "      <th>7</th>\n",
       "      <td>19.63</td>\n",
       "      <td>Cntrl</td>\n",
       "    </tr>\n",
       "    <tr>\n",
       "      <th>11</th>\n",
       "      <td>16.55</td>\n",
       "      <td>Cntrl</td>\n",
       "    </tr>\n",
       "    <tr>\n",
       "      <th>15</th>\n",
       "      <td>21.04</td>\n",
       "      <td>Cntrl</td>\n",
       "    </tr>\n",
       "    <tr>\n",
       "      <th>50</th>\n",
       "      <td>18.58</td>\n",
       "      <td>Tx</td>\n",
       "    </tr>\n",
       "    <tr>\n",
       "      <th>61</th>\n",
       "      <td>16.41</td>\n",
       "      <td>Tx</td>\n",
       "    </tr>\n",
       "  </tbody>\n",
       "</table>\n",
       "</div>"
      ],
      "text/plain": [
       "     Post  Group\n",
       "7   19.63  Cntrl\n",
       "11  16.55  Cntrl\n",
       "15  21.04  Cntrl\n",
       "50  18.58     Tx\n",
       "61  16.41     Tx"
      ]
     },
     "execution_count": 19,
     "metadata": {},
     "output_type": "execute_result"
    }
   ],
   "source": [
    "# Get the Post Test and Group data for records 7,11,15,50,61.\n",
    "nsub = df.iloc[[7,11,15,50,61], [1, 2]]\n",
    "nsub\n"
   ]
  },
  {
   "cell_type": "code",
   "execution_count": 23,
   "id": "24961adc-0daa-456d-92b8-3c4699916b08",
   "metadata": {},
   "outputs": [
    {
     "name": "stdout",
     "output_type": "stream",
     "text": [
      "<class 'pandas.core.frame.DataFrame'>\n",
      "RangeIndex: 74 entries, 0 to 73\n",
      "Data columns (total 3 columns):\n",
      " #   Column  Non-Null Count  Dtype  \n",
      "---  ------  --------------  -----  \n",
      " 0   ID      74 non-null     int64  \n",
      " 1   Post    74 non-null     float64\n",
      " 2   Group   74 non-null     object \n",
      "dtypes: float64(1), int64(1), object(1)\n",
      "memory usage: 1.9+ KB\n"
     ]
    }
   ],
   "source": [
    "# Check the information of the data frame such as number of records and features,\n",
    "# data types of each feature and file size.\n",
    "df.info()\n"
   ]
  },
  {
   "cell_type": "code",
   "execution_count": 25,
   "id": "848cfbff-8c3b-4c5e-8c29-e06eccd0e5ac",
   "metadata": {},
   "outputs": [
    {
     "data": {
      "text/plain": [
       "np.False_"
      ]
     },
     "execution_count": 25,
     "metadata": {},
     "output_type": "execute_result"
    }
   ],
   "source": [
    "#Checking for NAs or missing cases for the data set\n",
    "df.isnull().values.any()"
   ]
  },
  {
   "cell_type": "code",
   "execution_count": 26,
   "id": "b02b7a98-8450-4a11-aeb6-0a54b33868e3",
   "metadata": {},
   "outputs": [
    {
     "data": {
      "text/plain": [
       "ID       False\n",
       "Post     False\n",
       "Group    False\n",
       "dtype: bool"
      ]
     },
     "execution_count": 26,
     "metadata": {},
     "output_type": "execute_result"
    }
   ],
   "source": [
    "# Check for NAs per column\n",
    "df.isnull().any()"
   ]
  },
  {
   "cell_type": "code",
   "execution_count": 30,
   "id": "45e8ab6b-9e23-4669-9995-9c633f3ccd60",
   "metadata": {},
   "outputs": [
    {
     "data": {
      "text/plain": [
       "count    74.000000\n",
       "mean     16.924324\n",
       "std       3.344020\n",
       "min       5.280000\n",
       "25%      16.055000\n",
       "50%      18.205000\n",
       "75%      19.160000\n",
       "max      21.040000\n",
       "Name: Post, dtype: float64"
      ]
     },
     "execution_count": 30,
     "metadata": {},
     "output_type": "execute_result"
    }
   ],
   "source": [
    "# Provide a descriptive analysis for the Post Test measure\n",
    "ndesc = df[\"Post\"].describe()\n",
    "ndesc\n"
   ]
  },
  {
   "cell_type": "code",
   "execution_count": 22,
   "id": "378cd718-708e-427e-8b81-352d86f4f577",
   "metadata": {
    "scrolled": true
   },
   "outputs": [
    {
     "data": {
      "text/html": [
       "<div>\n",
       "<style scoped>\n",
       "    .dataframe tbody tr th:only-of-type {\n",
       "        vertical-align: middle;\n",
       "    }\n",
       "\n",
       "    .dataframe tbody tr th {\n",
       "        vertical-align: top;\n",
       "    }\n",
       "\n",
       "    .dataframe thead th {\n",
       "        text-align: right;\n",
       "    }\n",
       "</style>\n",
       "<table border=\"1\" class=\"dataframe\">\n",
       "  <thead>\n",
       "    <tr style=\"text-align: right;\">\n",
       "      <th></th>\n",
       "      <th>count</th>\n",
       "      <th>mean</th>\n",
       "      <th>std</th>\n",
       "      <th>min</th>\n",
       "      <th>25%</th>\n",
       "      <th>50%</th>\n",
       "      <th>75%</th>\n",
       "      <th>max</th>\n",
       "    </tr>\n",
       "    <tr>\n",
       "      <th>Group</th>\n",
       "      <th></th>\n",
       "      <th></th>\n",
       "      <th></th>\n",
       "      <th></th>\n",
       "      <th></th>\n",
       "      <th></th>\n",
       "      <th></th>\n",
       "      <th></th>\n",
       "    </tr>\n",
       "  </thead>\n",
       "  <tbody>\n",
       "    <tr>\n",
       "      <th>Cntrl</th>\n",
       "      <td>37.0</td>\n",
       "      <td>17.23</td>\n",
       "      <td>3.52</td>\n",
       "      <td>5.28</td>\n",
       "      <td>16.24</td>\n",
       "      <td>19.05</td>\n",
       "      <td>19.42</td>\n",
       "      <td>21.04</td>\n",
       "    </tr>\n",
       "    <tr>\n",
       "      <th>Tx</th>\n",
       "      <td>37.0</td>\n",
       "      <td>16.62</td>\n",
       "      <td>3.17</td>\n",
       "      <td>6.86</td>\n",
       "      <td>16.01</td>\n",
       "      <td>17.63</td>\n",
       "      <td>18.55</td>\n",
       "      <td>20.83</td>\n",
       "    </tr>\n",
       "  </tbody>\n",
       "</table>\n",
       "</div>"
      ],
      "text/plain": [
       "       count   mean   std   min    25%    50%    75%    max\n",
       "Group                                                      \n",
       "Cntrl   37.0  17.23  3.52  5.28  16.24  19.05  19.42  21.04\n",
       "Tx      37.0  16.62  3.17  6.86  16.01  17.63  18.55  20.83"
      ]
     },
     "execution_count": 22,
     "metadata": {},
     "output_type": "execute_result"
    }
   ],
   "source": [
    "# Provide a descriptive analysis for Post Test measure per Group.\n",
    "# Make sure that it is rounded to two decimal places only.\n",
    "# Save this in the variable labeled results.\n",
    "# Present the results variable\n",
    "results = np.round(df[\"Post\"].groupby(df[\"Group\"]).describe(),2)\n",
    "results\n"
   ]
  },
  {
   "cell_type": "code",
   "execution_count": 17,
   "id": "18b7d737-9074-49e7-87d3-6b7037eb709d",
   "metadata": {},
   "outputs": [
    {
     "data": {
      "text/html": [
       "<div>\n",
       "<style scoped>\n",
       "    .dataframe tbody tr th:only-of-type {\n",
       "        vertical-align: middle;\n",
       "    }\n",
       "\n",
       "    .dataframe tbody tr th {\n",
       "        vertical-align: top;\n",
       "    }\n",
       "\n",
       "    .dataframe thead th {\n",
       "        text-align: right;\n",
       "    }\n",
       "</style>\n",
       "<table border=\"1\" class=\"dataframe\">\n",
       "  <thead>\n",
       "    <tr style=\"text-align: right;\">\n",
       "      <th></th>\n",
       "      <th>count</th>\n",
       "      <th>mean</th>\n",
       "      <th>std</th>\n",
       "      <th>median</th>\n",
       "      <th>MAD</th>\n",
       "      <th>min</th>\n",
       "      <th>max</th>\n",
       "      <th>AD_stat</th>\n",
       "      <th>5% crit_value</th>\n",
       "    </tr>\n",
       "  </thead>\n",
       "  <tbody>\n",
       "    <tr>\n",
       "      <th>ID</th>\n",
       "      <td>74.0</td>\n",
       "      <td>37.50</td>\n",
       "      <td>21.51</td>\n",
       "      <td>37.5</td>\n",
       "      <td>18.50</td>\n",
       "      <td>1.00</td>\n",
       "      <td>74.00</td>\n",
       "      <td>0.80</td>\n",
       "      <td>0.75</td>\n",
       "    </tr>\n",
       "    <tr>\n",
       "      <th>Post</th>\n",
       "      <td>74.0</td>\n",
       "      <td>16.92</td>\n",
       "      <td>3.34</td>\n",
       "      <td>18.2</td>\n",
       "      <td>1.35</td>\n",
       "      <td>5.28</td>\n",
       "      <td>21.04</td>\n",
       "      <td>3.82</td>\n",
       "      <td>0.75</td>\n",
       "    </tr>\n",
       "  </tbody>\n",
       "</table>\n",
       "</div>"
      ],
      "text/plain": [
       "      count   mean    std  median    MAD   min    max  AD_stat  5% crit_value\n",
       "ID     74.0  37.50  21.51    37.5  18.50  1.00  74.00     0.80           0.75\n",
       "Post   74.0  16.92   3.34    18.2   1.35  5.28  21.04     3.82           0.75"
      ]
     },
     "execution_count": 17,
     "metadata": {},
     "output_type": "execute_result"
    }
   ],
   "source": [
    "qd.desc(df)"
   ]
  }
 ],
 "metadata": {
  "kernelspec": {
   "display_name": "Python 3 (ipykernel)",
   "language": "python",
   "name": "python3"
  },
  "language_info": {
   "codemirror_mode": {
    "name": "ipython",
    "version": 3
   },
   "file_extension": ".py",
   "mimetype": "text/x-python",
   "name": "python",
   "nbconvert_exporter": "python",
   "pygments_lexer": "ipython3",
   "version": "3.12.7"
  }
 },
 "nbformat": 4,
 "nbformat_minor": 5
}
